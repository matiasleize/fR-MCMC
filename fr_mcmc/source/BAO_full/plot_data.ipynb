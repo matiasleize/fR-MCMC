{
 "cells": [
  {
   "cell_type": "code",
   "execution_count": 7,
   "metadata": {},
   "outputs": [
    {
     "name": "stderr",
     "output_type": "stream",
     "text": [
      "No handles with labels found to put in legend.\n"
     ]
    },
    {
     "name": "stdout",
     "output_type": "stream",
     "text": [
      "BAO_full_1:\n",
      "      z       Dist  Stat_error  Sist_error   Type\n",
      "0  0.15      4.473       0.159       0.000  Dv/rd\n",
      "1  0.44     11.548       0.559       0.000  Dv/rd\n",
      "2  0.38     10.272       0.135       0.074  Dm/rd\n",
      "3  0.51     13.378       0.156       0.095  Dm/rd\n",
      "4  0.38  12044.070     251.226     133.002   H*rd\n",
      "\n",
      "BAO_full_2:\n",
      "   z_eff  Dm_rd  error_Dm_rd  Dh_rd  error_Dh_rd    rho\n",
      "0  0.706  16.85         0.32  20.08         0.60 -0.420\n",
      "1  0.930  21.71         0.28  17.88         0.35 -0.389\n",
      "2  1.317  27.79         0.69  13.82         0.42 -0.444\n",
      "3  2.330  38.80         0.75   8.72         0.14 -0.480\n",
      "       z    Dist  Stat_error  Sist_error   Type\n",
      "0  0.150   4.473       0.159         0.0  Dv/rd\n",
      "1  0.440  11.548       0.559         0.0  Dv/rd\n",
      "6  1.491  26.070       0.670         0.0  Dv/rd\n"
     ]
    },
    {
     "data": {
      "image/png": "[encoded data removed]",
      "text/plain": [
       "<Figure size 720x432 with 1 Axes>"
      ]
     },
     "metadata": {
      "needs_background": "light"
     },
     "output_type": "display_data"
    }
   ],
   "source": [
    "import pandas as pd\n",
    "import seaborn as sns\n",
    "import matplotlib.pyplot as plt\n",
    "\n",
    "# Load the data from CSV files\n",
    "bao_full_1 = pd.read_csv('BAO_full_1.csv')\n",
    "bao_full_2 = pd.read_csv('BAO_full_2.csv')\n",
    "\n",
    "# Display the first few rows of each dataframe to verify the data\n",
    "print(\"BAO_full_1:\")\n",
    "print(bao_full_1.head())\n",
    "print(\"\\nBAO_full_2:\")\n",
    "print(bao_full_2.head())\n",
    "\n",
    "# Plot the data\n",
    "plt.figure(figsize=(10, 6))\n",
    "\n",
    "# Filter the data to include only rows where Type is 'Dv/rd'\n",
    "bao_full_1_Dv = bao_full_1[bao_full_1['Type'] == 'Dv/rd']\n",
    "#bao_full_2_filtered = bao_full_2[bao_full_2['Type'] == 'Dv/rd']\n",
    "\n",
    "print(bao_full_1_filtered.head())\n",
    "\n",
    "# Plot BAO_full_1 data\n",
    "sns.scatterplot(data=bao_full_1, x='z', y='Dist', label='BAO_full_1', color='blue')\n",
    "\n",
    "# Plot BAO_full_2 data\n",
    "#sns.scatterplot(data=bao_full_2, x='z', y='Dist', label='BAO_full_2', color='red')\n",
    "\n",
    "# Add labels and title\n",
    "plt.xlabel('Redshift (z)')\n",
    "plt.ylabel('Distance (Dist)')\n",
    "plt.title('BAO Distance Measurements')\n",
    "plt.legend()\n",
    "\n",
    "# Show the plot\n",
    "plt.show()"
   ]
  }
 ],
 "metadata": {
  "kernelspec": {
   "display_name": "fR-MCMC",
   "language": "python",
   "name": "python3"
  },
  "language_info": {
   "codemirror_mode": {
    "name": "ipython",
    "version": 3
   },
   "file_extension": ".py",
   "mimetype": "text/x-python",
   "name": "python",
   "nbconvert_exporter": "python",
   "pygments_lexer": "ipython3",
   "version": "3.7.6"
  }
 },
 "nbformat": 4,
 "nbformat_minor": 2
}
