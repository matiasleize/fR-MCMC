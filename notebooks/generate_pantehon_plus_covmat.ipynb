{
 "cells": [
  {
   "cell_type": "markdown",
   "metadata": {},
   "source": [
    "# Covariance matrix for _Pantheon_ +\n",
    "\n",
    "This notebook generates the covariance matrix for pantheon plus data only (without SH0ES). Based on https://github.com/PantheonPlusSH0ES/DataRelease/blob/main/Pantheon%2B_Data/5_COSMOLOGY/cosmosis_likelihoods/Pantheon%2B_only_cosmosis_likelihood.py"
   ]
  },
  {
   "cell_type": "code",
   "execution_count": 5,
   "metadata": {},
   "outputs": [],
   "source": [
    "#Import libraries\n",
    "import numpy as np\n",
    "import pandas as pd\n",
    "import os\n",
    "import git\n",
    "path_git = git.Repo('.', search_parent_directories=True).working_tree_dir\n",
    "os.chdir(path_git)"
   ]
  },
  {
   "cell_type": "code",
   "execution_count": 6,
   "metadata": {},
   "outputs": [],
   "source": [
    "#Define the function that computes the covmat\n",
    "def covmat_pantheon_plus_only(file_pantheon_plus_data, file_pantheon_plus_cov): \n",
    "\n",
    "    print(\"Loading data from {}\".format(file_pantheon_plus_data))\n",
    "    data = pd.read_csv(file_pantheon_plus_data,delim_whitespace=True)\n",
    "    origlen = len(data)\n",
    "    ww = (data['zHD']>0.01) | (np.array(data['IS_CALIBRATOR'],dtype=bool))\n",
    "    zCMB = data['zHD'][ww] #use the vpec corrected redshift for zCMB \n",
    "    \n",
    "    f=open(file_pantheon_plus_cov)\n",
    "    line = f.readline()\n",
    "    n = int(len(zCMB))\n",
    "    C = np.zeros((n,n))\n",
    "    ii = -1\n",
    "    jj = -1\n",
    "    mine = 999\n",
    "    maxe = -999\n",
    "    for i in range(origlen):\n",
    "        jj = -1\n",
    "        if ww[i]:\n",
    "            ii += 1\n",
    "        for j in range(origlen):\n",
    "            if ww[j]:\n",
    "                jj += 1\n",
    "            val = float(f.readline())\n",
    "            if ww[i]:\n",
    "                if ww[j]:\n",
    "                    C[ii,jj] = val\n",
    "    f.close()\n",
    "    return C"
   ]
  },
  {
   "cell_type": "code",
   "execution_count": 7,
   "metadata": {},
   "outputs": [
    {
     "name": "stdout",
     "output_type": "stream",
     "text": [
      "Loading data from Pantheon+SH0ES.dat\n",
      "1701\n",
      "1701 1657\n"
     ]
    }
   ],
   "source": [
    "# Compute the Pantheon covmat\n",
    "os.chdir(path_git+'/fr_mcmc/source/Pantheon_plus_shoes')\n",
    "file_pantheon_plus_data = 'Pantheon+SH0ES.dat'\n",
    "file_pantheon_plus_cov = 'Pantheon+SH0ES_STAT+SYS.cov'\n",
    "C = covmat_pantheon_plus_only(file_pantheon_plus_data, file_pantheon_plus_cov)"
   ]
  },
  {
   "cell_type": "code",
   "execution_count": 8,
   "metadata": {},
   "outputs": [],
   "source": [
    "#Let's save the covmat\n",
    "outfile = 'covmat_pantheon_plus_only.npz'\n",
    "np.savez(outfile, C)"
   ]
  }
 ],
 "metadata": {
  "kernelspec": {
   "display_name": "Python 3.7.6 ('fR-MCMC')",
   "language": "python",
   "name": "python3"
  },
  "language_info": {
   "codemirror_mode": {
    "name": "ipython",
    "version": 3
   },
   "file_extension": ".py",
   "mimetype": "text/x-python",
   "name": "python",
   "nbconvert_exporter": "python",
   "pygments_lexer": "ipython3",
   "version": "3.7.6"
  },
  "orig_nbformat": 4,
  "vscode": {
   "interpreter": {
    "hash": "b0d0d2f9c3a81af5a62a94ddaf3d34d9729ca5245802a6c31b54c782d462cc4a"
   }
  }
 },
 "nbformat": 4,
 "nbformat_minor": 2
}
